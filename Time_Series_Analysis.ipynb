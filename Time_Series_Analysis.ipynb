{
  "nbformat": 4,
  "nbformat_minor": 0,
  "metadata": {
    "colab": {
      "name": "Time Series Analysis.ipynb",
      "provenance": [],
      "collapsed_sections": [],
      "authorship_tag": "ABX9TyMQpB5CS8ZRtJLOKGMtEcoQ",
      "include_colab_link": true
    },
    "kernelspec": {
      "name": "python3",
      "display_name": "Python 3"
    }
  },
  "cells": [
    {
      "cell_type": "markdown",
      "metadata": {
        "id": "view-in-github",
        "colab_type": "text"
      },
      "source": [
        "<a href=\"https://colab.research.google.com/github/sateeshmunagala/ml-python/blob/main/Time_Series_Analysis.ipynb\" target=\"_parent\"><img src=\"https://colab.research.google.com/assets/colab-badge.svg\" alt=\"Open In Colab\"/></a>"
      ]
    },
    {
      "cell_type": "code",
      "metadata": {
        "id": "QkJv1csPhTIB"
      },
      "source": [
        "import pandas as pd\r\n",
        "import numpy as np\r\n",
        "import warnings"
      ],
      "execution_count": null,
      "outputs": []
    },
    {
      "cell_type": "code",
      "metadata": {
        "id": "EKmedQ-OqV1T"
      },
      "source": [
        "warnings.filterwarnings(\"ignore\")"
      ],
      "execution_count": null,
      "outputs": []
    },
    {
      "cell_type": "code",
      "metadata": {
        "id": "cEJbrrbRhag9"
      },
      "source": [
        "# read data from my github url\r\n",
        "url=\"https://raw.githubusercontent.com/sateeshmunagala/Datasets/main/AirPassengers.csv\"\r\n",
        "df=pd.read_csv(url)"
      ],
      "execution_count": null,
      "outputs": []
    },
    {
      "cell_type": "code",
      "metadata": {
        "id": "XWAmdiVbhi0I"
      },
      "source": [
        "df[\"Month\"]=pd.to_datetime(df[\"Month\"]) "
      ],
      "execution_count": null,
      "outputs": []
    },
    {
      "cell_type": "code",
      "metadata": {
        "id": "-KkwlJLsh9Xx"
      },
      "source": [
        "dateparse = lambda dates: pd.datetime.strptime(dates, '%Y-%m')\r\n",
        "data = pd.read_csv(url, parse_dates=['Month'], index_col='Month',date_parser=dateparse)"
      ],
      "execution_count": null,
      "outputs": []
    },
    {
      "cell_type": "code",
      "metadata": {
        "id": "nEjiMV4tqbS-"
      },
      "source": [
        "data.index"
      ],
      "execution_count": null,
      "outputs": []
    },
    {
      "cell_type": "code",
      "metadata": {
        "colab": {
          "base_uri": "https://localhost:8080/"
        },
        "id": "CM6uy4Pwrz32",
        "outputId": "b4790f30-c0e2-4163-f33c-0b2c141b9203"
      },
      "source": [
        "ts=data[\"#Passengers\"]\r\n",
        "ts.head(10)"
      ],
      "execution_count": null,
      "outputs": [
        {
          "output_type": "execute_result",
          "data": {
            "text/plain": [
              "Month\n",
              "1949-01-01    112\n",
              "1949-02-01    118\n",
              "1949-03-01    132\n",
              "1949-04-01    129\n",
              "1949-05-01    121\n",
              "1949-06-01    135\n",
              "1949-07-01    148\n",
              "1949-08-01    148\n",
              "1949-09-01    136\n",
              "1949-10-01    119\n",
              "Name: #Passengers, dtype: int64"
            ]
          },
          "metadata": {
            "tags": []
          },
          "execution_count": 22
        }
      ]
    },
    {
      "cell_type": "code",
      "metadata": {
        "colab": {
          "base_uri": "https://localhost:8080/"
        },
        "id": "cZKBSyGGsbUb",
        "outputId": "c018e741-098e-41b5-879a-791249d23ee9"
      },
      "source": [
        "# 1. specify the index as string constant\r\n",
        "ts['1949-01-01']"
      ],
      "execution_count": null,
      "outputs": [
        {
          "output_type": "execute_result",
          "data": {
            "text/plain": [
              "112"
            ]
          },
          "metadata": {
            "tags": []
          },
          "execution_count": 23
        }
      ]
    },
    {
      "cell_type": "code",
      "metadata": {
        "colab": {
          "base_uri": "https://localhost:8080/"
        },
        "id": "tblFOTlIswzj",
        "outputId": "f13faf95-d151-477b-d396-3b973e272b03"
      },
      "source": [
        "# use datetime python module\r\n",
        "from datetime import datetime\r\n",
        "\r\n",
        "ts[datetime(1949,1,1)]"
      ],
      "execution_count": null,
      "outputs": [
        {
          "output_type": "execute_result",
          "data": {
            "text/plain": [
              "112"
            ]
          },
          "metadata": {
            "tags": []
          },
          "execution_count": 26
        }
      ]
    },
    {
      "cell_type": "code",
      "metadata": {
        "colab": {
          "base_uri": "https://localhost:8080/"
        },
        "id": "4ZFJ8cEetdxJ",
        "outputId": "fa6fc498-5e5e-4053-9d3d-623600590080"
      },
      "source": [
        "# specify the entire range\r\n",
        "ts['1949-01-01':'1949-05-01']"
      ],
      "execution_count": null,
      "outputs": [
        {
          "output_type": "execute_result",
          "data": {
            "text/plain": [
              "Month\n",
              "1949-01-01    112\n",
              "1949-02-01    118\n",
              "1949-03-01    132\n",
              "1949-04-01    129\n",
              "1949-05-01    121\n",
              "Name: #Passengers, dtype: int64"
            ]
          },
          "metadata": {
            "tags": []
          },
          "execution_count": 28
        }
      ]
    },
    {
      "cell_type": "code",
      "metadata": {
        "colab": {
          "base_uri": "https://localhost:8080/"
        },
        "id": "SsRDhpIXtenD",
        "outputId": "0a304539-f5a0-4b94-caaa-458024696949"
      },
      "source": [
        "ts[:'1949-05-01']"
      ],
      "execution_count": null,
      "outputs": [
        {
          "output_type": "execute_result",
          "data": {
            "text/plain": [
              "Month\n",
              "1949-01-01    112\n",
              "1949-02-01    118\n",
              "1949-03-01    132\n",
              "1949-04-01    129\n",
              "1949-05-01    121\n",
              "Name: #Passengers, dtype: int64"
            ]
          },
          "metadata": {
            "tags": []
          },
          "execution_count": 29
        }
      ]
    },
    {
      "cell_type": "code",
      "metadata": {
        "colab": {
          "base_uri": "https://localhost:8080/"
        },
        "id": "uJOCvLPeudLJ",
        "outputId": "b34e8817-b797-40fd-e139-3347e4f30c63"
      },
      "source": [
        "ts['1950']"
      ],
      "execution_count": null,
      "outputs": [
        {
          "output_type": "execute_result",
          "data": {
            "text/plain": [
              "Month\n",
              "1950-01-01    115\n",
              "1950-02-01    126\n",
              "1950-03-01    141\n",
              "1950-04-01    135\n",
              "1950-05-01    125\n",
              "1950-06-01    149\n",
              "1950-07-01    170\n",
              "1950-08-01    170\n",
              "1950-09-01    158\n",
              "1950-10-01    133\n",
              "1950-11-01    114\n",
              "1950-12-01    140\n",
              "Name: #Passengers, dtype: int64"
            ]
          },
          "metadata": {
            "tags": []
          },
          "execution_count": 31
        }
      ]
    },
    {
      "cell_type": "code",
      "metadata": {
        "id": "o7z44Umhu5lc"
      },
      "source": [
        "# How to check stationarity of a time series\r\n",
        "import matplotlib.pyplot as plt"
      ],
      "execution_count": null,
      "outputs": []
    },
    {
      "cell_type": "code",
      "metadata": {
        "id": "3r2dDovdw2wy"
      },
      "source": [
        "plt.plot(ts)"
      ],
      "execution_count": null,
      "outputs": []
    },
    {
      "cell_type": "code",
      "metadata": {
        "id": "fmgB9DyM0FYH"
      },
      "source": [
        "from statsmodels.tsa.stattools import adfuller"
      ],
      "execution_count": null,
      "outputs": []
    },
    {
      "cell_type": "code",
      "metadata": {
        "id": "S9hEvKN70ZBa"
      },
      "source": [
        "def test_stationarity(timeseries):\r\n",
        "    \r\n",
        "    #Determing rolling statistics\r\n",
        "    rolmean = pd.rolling_mean(timeseries, window=12)\r\n",
        "    rolstd = pd.rolling_std(timeseries, window=12)\r\n",
        "\r\n",
        "    #Plot rolling statistics:\r\n",
        "    orig = plt.plot(timeseries, color='blue',label='Original')\r\n",
        "    mean = plt.plot(rolmean, color='red', label='Rolling Mean')\r\n",
        "    std = plt.plot(rolstd, color='black', label = 'Rolling Std')\r\n",
        "    plt.legend(loc='best')\r\n",
        "    plt.title('Rolling Mean & Standard Deviation')\r\n",
        "    plt.show(block=False)\r\n",
        "    \r\n",
        "    #Perform Dickey-Fuller test:\r\n",
        "    print ('Results of Dickey-Fuller Test:')\r\n",
        "    dftest = adfuller(timeseries, autolag='AIC')\r\n",
        "    dfoutput = pd.Series(dftest[0:4], index=['Test Statistic','p-value','#Lags Used','Number of Observations Used'])\r\n",
        "    for key,value in dftest[4].items():\r\n",
        "        dfoutput['Critical Value (%s)'%key] = value\r\n",
        "    print (dfoutput)"
      ],
      "execution_count": null,
      "outputs": []
    },
    {
      "cell_type": "code",
      "metadata": {
        "id": "hapwD8zV1Cef"
      },
      "source": [
        "test_stationarity(ts)"
      ],
      "execution_count": null,
      "outputs": []
    },
    {
      "cell_type": "code",
      "metadata": {
        "colab": {
          "base_uri": "https://localhost:8080/",
          "height": 284
        },
        "id": "dn7Emwaf2TD4",
        "outputId": "31785256-34e6-49c0-e872-876702175a85"
      },
      "source": [
        "# How to make time series as stationarity\r\n",
        "# reduce the trend by transoforming the series with log functions\r\n",
        "ts_log = np.log(ts)\r\n",
        "plt.plot(ts_log)"
      ],
      "execution_count": null,
      "outputs": [
        {
          "output_type": "execute_result",
          "data": {
            "text/plain": [
              "[<matplotlib.lines.Line2D at 0x7f5ede43a470>]"
            ]
          },
          "metadata": {
            "tags": []
          },
          "execution_count": 40
        },
        {
          "output_type": "display_data",
          "data": {
            "image/png": "[encoded data removed]",
            "text/plain": [
              "<Figure size 432x288 with 1 Axes>"
            ]
          },
          "metadata": {
            "tags": [],
            "needs_background": "light"
          }
        }
      ]
    },
    {
      "cell_type": "code",
      "metadata": {
        "id": "iBdI6zgE5MXc"
      },
      "source": [
        "# measure ACF & PACF\r\n",
        "from statsmodels.tsa.stattools import acf,pacf"
      ],
      "execution_count": null,
      "outputs": []
    },
    {
      "cell_type": "code",
      "metadata": {
        "id": "LLp8VXgQ5XRk"
      },
      "source": [
        "from statsmodels.tsa.arima_model import ARIMA\r\n"
      ],
      "execution_count": null,
      "outputs": []
    },
    {
      "cell_type": "code",
      "metadata": {
        "colab": {
          "base_uri": "https://localhost:8080/"
        },
        "id": "h7AbdtP3N-Hu",
        "outputId": "8e9c8dbc-17cb-459e-d446-72c8f2b1bb2d"
      },
      "source": [
        "import pandas as pd"
      ],
      "execution_count": 1,
      "outputs": [
        {
          "output_type": "stream",
          "text": [
            "1.1.5\n"
          ],
          "name": "stdout"
        }
      ]
    }
  ]
}